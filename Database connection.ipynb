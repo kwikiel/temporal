{
 "cells": [
  {
   "cell_type": "code",
   "execution_count": 7,
   "metadata": {},
   "outputs": [],
   "source": [
    "import requests\n",
    "import json"
   ]
  },
  {
   "cell_type": "code",
   "execution_count": 4,
   "metadata": {},
   "outputs": [],
   "source": [
    "def flat_dict(url):\n",
    "    fd = {}\n",
    "    r = requests.get(url)\n",
    "    foo = r.json()\n",
    "    baz = flatten_json(foo) # Refactor\n",
    "    for x, y in baz.items():\n",
    "        try:\n",
    "            if(float(y)!=0.0):\n",
    "                fd[x] = y \n",
    "        except:\n",
    "            pass\n",
    "    return fd"
   ]
  },
  {
   "cell_type": "code",
   "execution_count": 5,
   "metadata": {},
   "outputs": [],
   "source": [
    "def flatten_json(y):\n",
    "    out = {}\n",
    "\n",
    "    def flatten(x, name=''):\n",
    "        if type(x) is dict:\n",
    "            for a in x:\n",
    "                flatten(x[a], name + a + '_')\n",
    "        elif type(x) is list:\n",
    "            i = 0\n",
    "            for a in x:\n",
    "                flatten(a, name + str(i) + '_')\n",
    "                i += 1\n",
    "        else:\n",
    "            out[name[:-1]] = x\n",
    "\n",
    "    flatten(y)\n",
    "    return out"
   ]
  },
  {
   "cell_type": "code",
   "execution_count": 10,
   "metadata": {
    "scrolled": true
   },
   "outputs": [
    {
     "name": "stdout",
     "output_type": "stream",
     "text": [
      "1\n",
      "https://api.bitclude.com/stats/ticker.json\n",
      "2\n",
      "https://api.cryptowat.ch/markets/kraken/btceur/price\n"
     ]
    }
   ],
   "source": [
    "from sqlalchemy import create_engine\n",
    "\n",
    "db_string = \"postgres://work_edu@localhost:5432/work_edu\"\n",
    "\n",
    "db = create_engine(db_string)\n",
    "\n",
    "# Create \n",
    "\n",
    "# Read\n",
    "result_set = db.execute(\"SELECT * FROM urls\")  \n",
    "for r in result_set:  \n",
    "    print(r[0]) # Record_ID external key \n",
    "    print(r[1]) # URL value \n",
    "    for x,y in flat_dict(r[1]).items():\n",
    "        db.execute(f\"INSERT INTO records (url_id, path, metric) VALUES ({r[0]},'{x}',{y})\")\n",
    "\n",
    "\n",
    "\n"
   ]
  },
  {
   "cell_type": "code",
   "execution_count": null,
   "metadata": {},
   "outputs": [],
   "source": [
    "for x,y in flat_dict(\"https://api.bitclude.com/stats/ticker.json\").items():\n",
    "    db.execute(f\"INSERT INTO records (url_id, path, metric) VALUES (1,'{x}',{y})\")\n",
    "    print(x,y)"
   ]
  },
  {
   "cell_type": "code",
   "execution_count": null,
   "metadata": {},
   "outputs": [],
   "source": []
  }
 ],
 "metadata": {
  "kernelspec": {
   "display_name": "Python 3",
   "language": "python",
   "name": "python3"
  },
  "language_info": {
   "codemirror_mode": {
    "name": "ipython",
    "version": 3
   },
   "file_extension": ".py",
   "mimetype": "text/x-python",
   "name": "python",
   "nbconvert_exporter": "python",
   "pygments_lexer": "ipython3",
   "version": "3.7.5"
  }
 },
 "nbformat": 4,
 "nbformat_minor": 2
}
