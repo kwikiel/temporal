{
 "cells": [
  {
   "cell_type": "code",
   "execution_count": 18,
   "metadata": {},
   "outputs": [],
   "source": [
    "import requests\n",
    "import json"
   ]
  },
  {
   "cell_type": "code",
   "execution_count": 2,
   "metadata": {},
   "outputs": [],
   "source": [
    "r = requests.get(\"https://api.bitclude.com/stats/ticker.json\")"
   ]
  },
  {
   "cell_type": "code",
   "execution_count": 8,
   "metadata": {},
   "outputs": [],
   "source": [
    "foo = r.json()"
   ]
  },
  {
   "cell_type": "code",
   "execution_count": 26,
   "metadata": {},
   "outputs": [],
   "source": [
    "def flatten_json(y):\n",
    "    out = {}\n",
    "\n",
    "    def flatten(x, name=''):\n",
    "        if type(x) is dict:\n",
    "            for a in x:\n",
    "                flatten(x[a], name + a + '_')\n",
    "        elif type(x) is list:\n",
    "            i = 0\n",
    "            for a in x:\n",
    "                flatten(a, name + str(i) + '_')\n",
    "                i += 1\n",
    "        else:\n",
    "            out[name[:-1]] = x\n",
    "\n",
    "    flatten(y)\n",
    "    return out"
   ]
  },
  {
   "cell_type": "code",
   "execution_count": 31,
   "metadata": {},
   "outputs": [],
   "source": [
    "baz = flatten_json(foo)"
   ]
  },
  {
   "cell_type": "code",
   "execution_count": 48,
   "metadata": {},
   "outputs": [
    {
     "name": "stdout",
     "output_type": "stream",
     "text": [
      "btc_pln_last 28750.0\n",
      "btc_pln_ask 28905.79\n",
      "btc_pln_bid 28000.0\n",
      "btc_pln_volumen 2.5848916\n",
      "btc_pln_max24H 31219.04\n",
      "btc_pln_min24H 26022.8\n",
      "ltc_btc_last 0.00612948\n",
      "ltc_btc_ask 0.00641809\n",
      "ltc_btc_bid 0.00612901\n",
      "ltc_btc_volumen 0.54708611\n",
      "ltc_btc_max24H 0.00688466\n",
      "ltc_btc_min24H 0.00612948\n",
      "btc_eur_last 6236.92\n",
      "btc_eur_ask 6164.45\n",
      "btc_eur_bid 5917.34\n",
      "btc_eur_volumen 0.00148896\n",
      "btc_eur_max24H 6356.07\n",
      "btc_eur_min24H 6236.92\n",
      "btc_usd_last 5520.38\n",
      "btc_usd_ask 6575.18\n",
      "btc_usd_bid 6287.66\n",
      "btc_gbp_last 7086.26\n",
      "btc_gbp_ask 5609.08\n",
      "btc_gbp_bid 5400.37\n",
      "bch_btc_last 0.05195027\n",
      "bch_btc_bid 0.0005195\n"
     ]
    }
   ],
   "source": [
    "for x, y in baz.items():\n",
    "    try:\n",
    "        if(float(y)!=0.0):\n",
    "            print(x,float(y))\n",
    "    except:\n",
    "        pass"
   ]
  },
  {
   "cell_type": "code",
   "execution_count": 40,
   "metadata": {},
   "outputs": [
    {
     "data": {
      "text/plain": [
       "True"
      ]
     },
     "execution_count": 40,
     "metadata": {},
     "output_type": "execute_result"
    }
   ],
   "source": []
  },
  {
   "cell_type": "code",
   "execution_count": 55,
   "metadata": {},
   "outputs": [],
   "source": [
    "def flat_dict(url):\n",
    "    fd = {}\n",
    "    r = requests.get(url)\n",
    "    foo = r.json()\n",
    "    baz = flatten_json(foo) # Refactor\n",
    "    for x, y in baz.items():\n",
    "        try:\n",
    "            if(float(y)!=0.0):\n",
    "                fd[x] = y \n",
    "        except:\n",
    "            pass\n",
    "    return fd"
   ]
  },
  {
   "cell_type": "code",
   "execution_count": 56,
   "metadata": {},
   "outputs": [
    {
     "data": {
      "text/plain": [
       "{'btc_pln_last': '28750.00',\n",
       " 'btc_pln_ask': '28600.00',\n",
       " 'btc_pln_bid': '28000.00',\n",
       " 'btc_pln_volumen': '2.58471012',\n",
       " 'btc_pln_max24H': '31219.04',\n",
       " 'btc_pln_min24H': '26022.80',\n",
       " 'ltc_btc_last': '0.00612948',\n",
       " 'ltc_btc_ask': '0.00641809',\n",
       " 'ltc_btc_bid': '0.00612901',\n",
       " 'ltc_btc_volumen': '0.54708611',\n",
       " 'ltc_btc_max24H': '0.00688466',\n",
       " 'ltc_btc_min24H': '0.00612948',\n",
       " 'btc_eur_last': '6236.92',\n",
       " 'btc_eur_ask': '6142.97',\n",
       " 'btc_eur_bid': '5918.28',\n",
       " 'btc_eur_volumen': '0.00148896',\n",
       " 'btc_eur_max24H': '6356.07',\n",
       " 'btc_eur_min24H': '6236.92',\n",
       " 'btc_usd_last': '5520.38',\n",
       " 'btc_usd_ask': '6557.95',\n",
       " 'btc_usd_bid': '6242.84',\n",
       " 'btc_gbp_last': '7086.26',\n",
       " 'btc_gbp_ask': '5600.20',\n",
       " 'btc_gbp_bid': '5411.39',\n",
       " 'bch_btc_last': '0.05195027',\n",
       " 'bch_btc_bid': '0.00051950'}"
      ]
     },
     "execution_count": 56,
     "metadata": {},
     "output_type": "execute_result"
    }
   ],
   "source": [
    "flat_dict(url=\"https://api.bitclude.com/stats/ticker.json\")"
   ]
  },
  {
   "cell_type": "code",
   "execution_count": null,
   "metadata": {},
   "outputs": [],
   "source": []
  }
 ],
 "metadata": {
  "kernelspec": {
   "display_name": "Python 3",
   "language": "python",
   "name": "python3"
  },
  "language_info": {
   "codemirror_mode": {
    "name": "ipython",
    "version": 3
   },
   "file_extension": ".py",
   "mimetype": "text/x-python",
   "name": "python",
   "nbconvert_exporter": "python",
   "pygments_lexer": "ipython3",
   "version": "3.7.5"
  }
 },
 "nbformat": 4,
 "nbformat_minor": 2
}
